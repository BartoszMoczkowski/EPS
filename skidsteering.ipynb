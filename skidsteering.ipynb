{
 "cells": [
  {
   "cell_type": "code",
   "execution_count": 70,
   "metadata": {},
   "outputs": [],
   "source": [
    "import numpy as np\n",
    "import sympy as sp\n",
    "import scipy as sc"
   ]
  },
  {
   "cell_type": "code",
   "execution_count": 71,
   "metadata": {},
   "outputs": [],
   "source": [
    "m = 25500\n",
    "l = 3.8\n",
    "b = 0.45\n",
    "B = 2.54\n",
    "r = 0.32\n",
    "h = 1.3\n",
    "g = 9.81\n",
    "v = 2\n",
    "R = 1000\n",
    "f = 0.0263\n",
    "K = 0.075\n",
    "mu = 0.9\n"
   ]
  },
  {
   "cell_type": "code",
   "execution_count": 72,
   "metadata": {},
   "outputs": [],
   "source": [
    "\n",
    "yaw_rate = v/(R+B/2)"
   ]
  },
  {
   "cell_type": "code",
   "execution_count": 73,
   "metadata": {},
   "outputs": [],
   "source": [
    "def jxyi(x2,y2,avi,avo,so):\n",
    "    Rp = np.sqrt(R**2 - so**2)\n",
    "    part1 = (Rp - B/2 + x2) * np.sin((l/2-so-y2)*yaw_rate/r/avi)\n",
    "    part2 = l/2 - so\n",
    "    part3 = y2 * np.cos((l/2 - so - y2)*yaw_rate/r/avi)\n",
    "\n",
    "    jyi = part1 - part2 + part3\n",
    "\n",
    "    part4 = (Rp - B/2 + x2) * (np.cos((l/2-so-y2)*yaw_rate/r/avi) - 1)\n",
    "    part5 = y2 * np.sin((l/2 - so - y2)*yaw_rate/r/avi)\n",
    "\n",
    "    jxi = part4 - part5\n",
    "\n",
    "    return jxi,jyi\n",
    "\n",
    "def jxyo(x1,y1,avi,avo,so):\n",
    "    Rp = np.sqrt(R**2 - so**2)\n",
    "    part1 = (Rp + B/2 + x1) * np.sin((l/2-so-y1)*yaw_rate/r/avo)\n",
    "    part2 = l/2 - so\n",
    "    part3 = y1 * np.cos((l/2 - so - y1)*yaw_rate/r/avo)\n",
    "\n",
    "    jyo = part1 - part2 + part3\n",
    "\n",
    "    part4 = (Rp + B/2 + x1) * (np.cos((l/2-so-y1)*yaw_rate/r/avo) - 1)\n",
    "    part5 = y1 * np.sin((l/2 - so - y1)*yaw_rate/r/avo)\n",
    "\n",
    "    jxo = part4 - part5\n",
    "\n",
    "    return jxo,jyo"
   ]
  },
  {
   "cell_type": "code",
   "execution_count": 74,
   "metadata": {},
   "outputs": [],
   "source": [
    "def Fxo_integrat(x,y,avi,avo,so):\n",
    "    Rp = np.sqrt(R**2 - so**2)\n",
    "    jxo,jyo = jxyo(x,y,avi,avo,so)\n",
    "    jo = np.sqrt(jxo**2 + jyo **2)\n",
    "    cos_r1 = (-y*yaw_rate)/np.sqrt(((Rp+B/2+x)*yaw_rate-r*avo)**2+(y*yaw_rate)**2)\n",
    "\n",
    "    beta = np.arcsin(so/R)\n",
    "    Wo = m*g/2+h*m*v**2/B/Rp*np.cos(beta)\n",
    "    po = Wo/(b*l) - 12/(b*l**3)*h*m*v**2/2/Rp*np.sin(beta)*(y+so)\n",
    "\n",
    "    return po*mu*(1-np.exp(-jo/K))*cos_r1\n",
    "\n",
    "def Fxi_integrat(x,y,avi,avo,so):\n",
    "    Rp = np.sqrt(R**2 - so**2)\n",
    "    jxi,jyi = jxyi(x,y,avi,avo,so)\n",
    "    ji = np.sqrt(jxi**2 + jyi **2)\n",
    "    cos_r2 = (-y*yaw_rate)/np.sqrt(((Rp-B/2+x)*yaw_rate-r*avi)**2+(y*yaw_rate)**2)\n",
    "    beta = np.arcsin(so/R)\n",
    "    Wi = m*g/2-h*m*v**2/B/Rp*np.cos(beta)\n",
    "    pi = Wi/(b*l) - 12/(b*l**3)*h*m*v**2/2/Rp*np.sin(beta)*(y+so)   \n",
    "    return pi*mu**(1-np.exp(-ji/K))*cos_r2"
   ]
  },
  {
   "cell_type": "code",
   "execution_count": 75,
   "metadata": {},
   "outputs": [],
   "source": [
    "def Fyo_integrat(x,y,avi,avo,so):\n",
    "    Rp = np.sqrt(R**2 - so**2)\n",
    "    jxo,jyo = jxyo(x,y,avi,avo,so)\n",
    "    jo = np.sqrt(jxo**2 + jyo **2)\n",
    "    sin_r1 = ((Rp + B/2 + x)*yaw_rate - r*avo)/np.sqrt(((Rp+B/2+x)*yaw_rate-r*avo)**2+(y*yaw_rate)**2)\n",
    "    \n",
    "    beta = np.arcsin(so/R)\n",
    "    Wo = m*g/2+h*m*v**2/B/Rp*np.cos(beta)\n",
    "    po = Wo/(b*l) - 12/(b*l**3)*h*m*v**2/2/Rp*np.sin(beta)*(y+so)\n",
    "\n",
    "    return po*mu*(1-np.exp(-jo/K))*sin_r1\n",
    "\n",
    "def Fyi_integrat(x,y,avi,avo,so):\n",
    "    Rp = np.sqrt(R**2 - so**2)\n",
    "    jxi,jyi = jxyi(x,y,avi,avo,so)\n",
    "    ji = np.sqrt(jxi**2 + jyi **2)\n",
    "    sin_r2 = ((Rp - B/2 + x)*yaw_rate - r*avi)/np.sqrt(((Rp-B/2+x)*yaw_rate-r*avi)**2+(y*yaw_rate)**2)\n",
    "\n",
    "    beta = np.arcsin(so/R)\n",
    "    Wi = m*g/2-h*m*v**2/B/Rp*np.cos(beta)\n",
    "    pi = Wi/(b*l) - 12/(b*l**3)*h*m*v**2/2/Rp*np.sin(beta)*(y+so)   \n",
    "\n",
    "    return pi*mu*(1-np.exp(-ji/K))*sin_r2"
   ]
  },
  {
   "cell_type": "code",
   "execution_count": 76,
   "metadata": {},
   "outputs": [],
   "source": [
    "def Mlo_integrat(x,y,avi,avo,so):\n",
    "    Rp = np.sqrt(R**2 - so**2)\n",
    "    jxo,jyo = jxyo(x,y,avi,avo,so)\n",
    "    jo = np.sqrt(jxo**2 + jyo **2)\n",
    "    sin_r1 = ((Rp + B/2 + x)*yaw_rate - r*avo)/np.sqrt(((Rp+B/2+x)*yaw_rate-r*avo)**2+(y*yaw_rate)**2)\n",
    "    beta = np.arcsin(so/R)\n",
    "    Wo = m*g/2+h*m*v**2/B/Rp*np.cos(beta)\n",
    "    po = Wo/(b*l) - 12/(b*l**3)*h*m*v**2/2/Rp*np.sin(beta)*(y+so)\n",
    "    return (B/2 + x)*po*mu*(1-np.exp(-jo/K))*sin_r1\n",
    "\n",
    "def Mli_integrat(x,y,avi,avo,so):\n",
    "    Rp = np.sqrt(R**2 - so**2)\n",
    "    jxi,jyi = jxyi(x,y,avi,avo,so)\n",
    "    ji = np.sqrt(jxi**2 + jyi **2)\n",
    "    sin_r2 = ((Rp - B/2 + x)*yaw_rate - r*avi)/np.sqrt(((Rp-B/2+x)*yaw_rate-r*avi)**2+(y*yaw_rate)**2)\n",
    "    beta = np.arcsin(so/R)\n",
    "    Wi = m*g/2-h*m*v**2/B/Rp*np.cos(beta)\n",
    "    pi = Wi/(b*l) - 12/(b*l**3)*h*m*v**2/2/Rp*np.sin(beta)*(y+so)   \n",
    "    return (B/2 - x)*pi*mu*(1-np.exp(-ji/K))*sin_r2"
   ]
  },
  {
   "cell_type": "code",
   "execution_count": 77,
   "metadata": {},
   "outputs": [],
   "source": [
    "def Mto_integrat(x,y,avi,avo,so):\n",
    "    Rp = np.sqrt(R**2 - so**2)\n",
    "    jxo,jyo = jxyo(x,y,avi,avo,so)\n",
    "    jo = np.sqrt(jxo**2 + jyo **2)\n",
    "\n",
    "    cos_r1 = (-y*yaw_rate)/np.sqrt(((Rp+B/2+x)*yaw_rate-r*avo)**2+(y*yaw_rate)**2)\n",
    "    beta = np.arcsin(so/R)\n",
    "    Wo = m*g/2+h*m*v**2/B/Rp*np.cos(beta)\n",
    "    po = Wo/(b*l) - 12/(b*l**3)*h*m*v**2/2/Rp*np.sin(beta)*(y+so)\n",
    "    return y*po*mu*(1-np.exp(-jo/K))*cos_r1\n",
    "\n",
    "def Mti_integrat(x,y,avi,avo,so):\n",
    "    Rp = np.sqrt(R**2 - so**2)\n",
    "    jxi,jyi = jxyi(x,y,avi,avo,so)\n",
    "    ji = np.sqrt(jxi**2 + jyi **2)\n",
    "\n",
    "    cos_r2 = (-y*yaw_rate)/np.sqrt(((Rp-B/2+x)*yaw_rate-r*avi)**2+(y*yaw_rate)**2)\n",
    "    beta = np.arcsin(so/R)\n",
    "    Wi = m*g/2-h*m*v**2/B/Rp*np.cos(beta)\n",
    "    pi = Wi/(b*l) - 12/(b*l**3)*h*m*v**2/2/Rp*np.sin(beta)*(y+so)   \n",
    "    return y*pi*mu*(1-np.exp(-ji/K))*cos_r2"
   ]
  },
  {
   "cell_type": "code",
   "execution_count": 78,
   "metadata": {},
   "outputs": [],
   "source": [
    "from scipy.integrate import dblquad\n",
    "from scipy.optimize import fsolve"
   ]
  },
  {
   "cell_type": "code",
   "execution_count": 79,
   "metadata": {},
   "outputs": [],
   "source": [
    "def integ_calc(avi,avo,so):\n",
    "\n",
    "    yb1 = -l/2 - so\n",
    "    yb2 = l/2 - so\n",
    "\n",
    "    xb1 = -b/2\n",
    "    xb2 = b/2\n",
    "\n",
    "    Fxi = -dblquad(lambda y,x : Fxi_integrat(x,y,avi,avo,so),xb1,xb2,yb1,yb2)[0]\n",
    "    Fxo = -dblquad(lambda y,x : Fxo_integrat(x,y,avi,avo,so),xb1,xb2,yb1,yb2)[0]\n",
    "\n",
    "    Fyi = -dblquad(lambda y,x : Fyi_integrat(x,y,avi,avo,so),xb1,xb2,yb1,yb2)[0]\n",
    "    Fyo = -dblquad(lambda y,x : Fyo_integrat(x,y,avi,avo,so),xb1,xb2,yb1,yb2)[0]\n",
    "\n",
    "    Mli = -dblquad(lambda y,x : Mli_integrat(x,y,avi,avo,so),xb1,xb2,yb1,yb2)[0]\n",
    "    Mlo = -dblquad(lambda y,x : Mlo_integrat(x,y,avi,avo,so),xb1,xb2,yb1,yb2)[0]\n",
    "\n",
    "    Mti = -dblquad(lambda y,x : Mti_integrat(x,y,avi,avo,so),xb1,xb2,yb1,yb2)[0]\n",
    "    Mto = -dblquad(lambda y,x : Mto_integrat(x,y,avi,avo,so),xb1,xb2,yb1,yb2)[0]\n",
    "\n",
    "    return Fxi,Fxo,Fyi,Fyo,Mli,Mlo,Mti,Mto"
   ]
  },
  {
   "cell_type": "code",
   "execution_count": 80,
   "metadata": {},
   "outputs": [],
   "source": [
    "def optimize(vec):\n",
    "\n",
    "    avi = vec[0]\n",
    "    avo = vec[1]\n",
    "    so = vec[2]\n",
    "    beta = np.arcsin(so/R)\n",
    "    Fxi,Fxo,Fyi,Fyo,Mli,Mlo,Mti,Mto = integ_calc(avi,avo,so)\n",
    "    d = (avo-avi)/(avo)\n",
    "    return np.array([\n",
    "        Fxo + Fxi + m*v**2/R*np.cos(beta),\n",
    "        Fyo+Fyi - m*v**2/R*np.sin(beta)-f*m*g,\n",
    "        Mlo - Mli - B/2*(d*f*m*g) + m*v**2/R*np.cos(beta)*so-Mto-Mti\n",
    "\n",
    "    ])"
   ]
  },
  {
   "cell_type": "code",
   "execution_count": 81,
   "metadata": {},
   "outputs": [],
   "source": [
    "def print_optimize(vec):\n",
    "\n",
    "    avi = vec[0]\n",
    "    avo = vec[1]\n",
    "    so = vec[2]\n",
    "    beta = np.arcsin(so/R)\n",
    "    Fxi,Fxo,Fyi,Fyo,Mli,Mlo,Mti,Mto = integ_calc(avi,avo,so)\n",
    "\n",
    "    return Fxi,Fxo,Fyi,Fyo,Mli,Mlo,Mti,Mto\n"
   ]
  },
  {
   "cell_type": "code",
   "execution_count": 82,
   "metadata": {},
   "outputs": [
    {
     "name": "stderr",
     "output_type": "stream",
     "text": [
      "c:\\Users\\PC\\Anaconda3\\envs\\base_updated\\Lib\\site-packages\\scipy\\integrate\\_quadpack_py.py:1272: IntegrationWarning: The occurrence of roundoff error is detected, which prevents \n",
      "  the requested tolerance from being achieved.  The error may be \n",
      "  underestimated.\n",
      "  quad_r = quad(f, low, high, args=args, full_output=self.full_output,\n"
     ]
    }
   ],
   "source": [
    "guesses = [(R-B/2)*yaw_rate/r,(R+B/2)*yaw_rate/r,l/4]\n",
    "\n",
    "s = fsolve(optimize,guesses,full_output=True)[0]"
   ]
  },
  {
   "cell_type": "code",
   "execution_count": 83,
   "metadata": {},
   "outputs": [
    {
     "data": {
      "text/plain": [
       "array([ 6.23736449,  6.26210921, -0.01774551])"
      ]
     },
     "execution_count": 83,
     "metadata": {},
     "output_type": "execute_result"
    }
   ],
   "source": [
    "s"
   ]
  },
  {
   "cell_type": "code",
   "execution_count": 84,
   "metadata": {},
   "outputs": [],
   "source": [
    "avi = s[0]\n",
    "avo = s[1]\n",
    "so = s[2]\n"
   ]
  },
  {
   "cell_type": "code",
   "execution_count": 85,
   "metadata": {},
   "outputs": [],
   "source": [
    "Fxi,Fxo,Fyi,Fyo,Mli,Mlo,Mti,Mto = print_optimize(s)"
   ]
  },
  {
   "cell_type": "code",
   "execution_count": 86,
   "metadata": {},
   "outputs": [
    {
     "name": "stdout",
     "output_type": "stream",
     "text": [
      "469.92515114599667 1635.3790715327796\n"
     ]
    }
   ],
   "source": [
    "print(Fyi*r,Fyo*r)"
   ]
  }
 ],
 "metadata": {
  "kernelspec": {
   "display_name": "base_updated",
   "language": "python",
   "name": "python3"
  },
  "language_info": {
   "codemirror_mode": {
    "name": "ipython",
    "version": 3
   },
   "file_extension": ".py",
   "mimetype": "text/x-python",
   "name": "python",
   "nbconvert_exporter": "python",
   "pygments_lexer": "ipython3",
   "version": "3.12.1"
  }
 },
 "nbformat": 4,
 "nbformat_minor": 2
}
